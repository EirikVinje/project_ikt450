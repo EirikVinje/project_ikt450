{
 "cells": [
  {
   "cell_type": "code",
   "execution_count": 17,
   "id": "a639bf36-ea01-4e27-a9e8-1b32f94c7a98",
   "metadata": {},
   "outputs": [],
   "source": [
    "import numpy as np\n",
    "import pickle\n",
    "import os\n",
    "from collections import Counter"
   ]
  },
  {
   "cell_type": "code",
   "execution_count": 20,
   "id": "9197feb1-ae05-46fd-90d5-a45945d903fe",
   "metadata": {},
   "outputs": [],
   "source": [
    "data_dir = \"/home/eirikmv/data/chestxray8/dataset\"\n",
    "    \n",
    "train_x, train_y = pickle.load(open(os.path.join(data_dir, \"train.pkl\"), \"rb\"))\n",
    "val_x, val_y = pickle.load(open(os.path.join(data_dir, \"validation.pkl\"), \"rb\"))"
   ]
  },
  {
   "cell_type": "code",
   "execution_count": 24,
   "id": "7c30598b-76ac-47ee-b653-79358927c24a",
   "metadata": {},
   "outputs": [
    {
     "name": "stdout",
     "output_type": "stream",
     "text": [
      "Counter({1: 21190, 2: 8804, 3: 2859, 4: 750, 5: 211, 6: 56, 7: 9, 10: 1, 9: 1})\n",
      "\n",
      "[7587 1590 2626 1283 7919 1327 1138 130 12739 3689 4359 1998 806 2432 214\n",
      " 88 957 598 368]\n"
     ]
    }
   ],
   "source": [
    "\n",
    "train_y = np.array(train_y)\n",
    "\n",
    "print(Counter(np.sum(train_y, axis=1)))\n",
    "print()\n",
    "print(np.sum(train_y, axis=0))\n",
    "\n",
    "# 0, 4, 8, 9, 10, 11"
   ]
  }
 ],
 "metadata": {
  "kernelspec": {
   "display_name": "Python 3 (ipykernel)",
   "language": "python",
   "name": "python3"
  },
  "language_info": {
   "codemirror_mode": {
    "name": "ipython",
    "version": 3
   },
   "file_extension": ".py",
   "mimetype": "text/x-python",
   "name": "python",
   "nbconvert_exporter": "python",
   "pygments_lexer": "ipython3",
   "version": "3.10.12"
  }
 },
 "nbformat": 4,
 "nbformat_minor": 5
}
